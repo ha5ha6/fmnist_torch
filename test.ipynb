{
 "cells": [
  {
   "cell_type": "markdown",
   "id": "8ca97111-020b-4b1f-90f0-52ca47baecb5",
   "metadata": {
    "tags": []
   },
   "source": [
    "https://github.com/zalandoresearch/fashion-mnist\n",
    "\n",
    "| Label | Description |\n",
    "|-------|-------------|\n",
    "|   0   | T-shirt/top |\n",
    "|   1   |   Trouser   |\n",
    "|   2   |   Pullover  |\n",
    "|   3   |    Dress    |\n",
    "|   4   |     Coat    |\n",
    "|   5   |    Sandal   |\n",
    "|   6   |    Shirt    |\n",
    "|   7   |   Sneaker   |\n",
    "|   8   |     Bag     |\n",
    "|   9   |  Ankle boot |"
   ]
  },
  {
   "cell_type": "markdown",
   "id": "06cea2fe-159f-43fc-bb5d-74999be07802",
   "metadata": {},
   "source": [
    "# load data"
   ]
  },
  {
   "cell_type": "code",
   "execution_count": 40,
   "id": "1d3ba2c6-dd7d-47fb-a700-6acfd7272cde",
   "metadata": {},
   "outputs": [],
   "source": [
    "import torch\n",
    "import torch.nn.functional as F\n",
    "from torchvision import datasets, transforms\n",
    "from torch import nn\n",
    "from torch import optim\n",
    "import matplotlib.pyplot as plt\n",
    "from sklearn.metrics import classification_report\n",
    "import pandas as pd\n",
    "import numpy as np\n",
    "\n",
    "mean,std=(0.5,),(0.5,)\n",
    "\n",
    "tf=transforms.Compose([transforms.ToTensor(),\n",
    "                       transforms.Normalize(mean,std)])\n",
    "\n",
    "train=datasets.FashionMNIST('~/.pytorch/FMNIST',download=True,train=True,transform=tf)\n",
    "test=datasets.FashionMNIST('~/.pytorch/FMNIST',download=True,train=False,transform=tf)\n",
    "\n",
    "train_loader=torch.utils.data.DataLoader(train,batch_size=64,shuffle=True)\n",
    "test_loader=torch.utils.data.DataLoader(test,batch_size=64,shuffle=False)"
   ]
  },
  {
   "cell_type": "markdown",
   "id": "f43cc63c-c140-47c2-994f-bf76c9a948fc",
   "metadata": {},
   "source": [
    "# show example"
   ]
  },
  {
   "cell_type": "code",
   "execution_count": 2,
   "id": "113b285e-485a-4a32-83e0-72cab2ddacae",
   "metadata": {},
   "outputs": [
    {
     "data": {
      "text/plain": [
       "(torch.Size([64, 1, 28, 28]), torch.Size([64, 784]))"
      ]
     },
     "execution_count": 2,
     "metadata": {},
     "output_type": "execute_result"
    }
   ],
   "source": [
    "img,label=next(iter(train_loader))\n",
    "\n",
    "img.shape,img.view(img.shape[0],-1).shape"
   ]
  },
  {
   "cell_type": "code",
   "execution_count": 4,
   "id": "163d5460-7ebb-4f67-9cdf-a614ac37f2fc",
   "metadata": {},
   "outputs": [
    {
     "data": {
      "text/plain": [
       "<matplotlib.image.AxesImage at 0x179b20ca0>"
      ]
     },
     "execution_count": 4,
     "metadata": {},
     "output_type": "execute_result"
    },
    {
     "data": {
      "image/png": "[encoded data removed]",
      "text/plain": [
       "<Figure size 432x288 with 1 Axes>"
      ]
     },
     "metadata": {
      "needs_background": "light"
     },
     "output_type": "display_data"
    }
   ],
   "source": [
    "plt.imshow(img[0][0],cmap='gray')"
   ]
  },
  {
   "cell_type": "code",
   "execution_count": 6,
   "id": "075db4c3-b4be-450c-984e-cc24447e02b2",
   "metadata": {},
   "outputs": [
    {
     "data": {
      "text/plain": [
       "tensor(5)"
      ]
     },
     "execution_count": 6,
     "metadata": {},
     "output_type": "execute_result"
    }
   ],
   "source": [
    "label[0] #sandal"
   ]
  },
  {
   "cell_type": "markdown",
   "id": "1b9c5043-a1cd-48c9-be83-86a24b2b486e",
   "metadata": {},
   "source": [
    "# model training"
   ]
  },
  {
   "cell_type": "code",
   "execution_count": 9,
   "id": "441dc953-ce20-4bda-87eb-1f49d12f8024",
   "metadata": {},
   "outputs": [
    {
     "name": "stdout",
     "output_type": "stream",
     "text": [
      "Ep: 0, Training loss: 1.040591605595434\n",
      "Ep: 0, Valid loss: 0.6381891542559217\n",
      "Ep: 1, Training loss: 0.5536774821372937\n",
      "Ep: 1, Valid loss: 0.5343243007067662\n",
      "Ep: 2, Training loss: 0.48677120117871747\n",
      "Ep: 2, Valid loss: 0.4935266517909469\n",
      "Ep: 3, Training loss: 0.4523286675212226\n",
      "Ep: 3, Valid loss: 0.466664137544146\n",
      "Ep: 4, Training loss: 0.42860018655753085\n",
      "Ep: 4, Valid loss: 0.4515667626052905\n",
      "Ep: 5, Training loss: 0.41166508451962014\n",
      "Ep: 5, Valid loss: 0.4340885390711438\n",
      "Ep: 6, Training loss: 0.39835131366941723\n",
      "Ep: 6, Valid loss: 0.42479602536957733\n",
      "Ep: 7, Training loss: 0.3867590125086211\n",
      "Ep: 7, Valid loss: 0.4317972966629988\n",
      "Ep: 8, Training loss: 0.3776428989811874\n",
      "Ep: 8, Valid loss: 0.41710780988073654\n",
      "Ep: 9, Training loss: 0.3686897247267176\n",
      "Ep: 9, Valid loss: 0.4028678152022088\n",
      "Ep: 10, Training loss: 0.36088911324008693\n",
      "Ep: 10, Valid loss: 0.39622257298724667\n",
      "Ep: 11, Training loss: 0.35401126246716674\n",
      "Ep: 11, Valid loss: 0.39257748605339393\n",
      "Ep: 12, Training loss: 0.34753561997686877\n",
      "Ep: 12, Valid loss: 0.3864050601508207\n",
      "Ep: 13, Training loss: 0.340999860324458\n",
      "Ep: 13, Valid loss: 0.40878446162885923\n",
      "Ep: 14, Training loss: 0.33529817772858433\n",
      "Ep: 14, Valid loss: 0.37782546517195975\n",
      "Ep: 15, Training loss: 0.33009204674345344\n",
      "Ep: 15, Valid loss: 0.37724201105962135\n",
      "Ep: 16, Training loss: 0.3240002152492116\n",
      "Ep: 16, Valid loss: 0.38423455625203007\n",
      "Ep: 17, Training loss: 0.3186172034774127\n",
      "Ep: 17, Valid loss: 0.38267178463328416\n",
      "Ep: 18, Training loss: 0.31392982782426676\n",
      "Ep: 18, Valid loss: 0.3651289904762985\n",
      "Ep: 19, Training loss: 0.30928074304006503\n",
      "Ep: 19, Valid loss: 0.369930950367147\n"
     ]
    }
   ],
   "source": [
    "model=nn.Sequential(nn.Linear(784,128),\n",
    "                    nn.ReLU(),\n",
    "                    nn.Linear(128,64),\n",
    "                    nn.ReLU(),\n",
    "                    nn.Linear(64,10),\n",
    "                    nn.LogSoftmax(dim=1))\n",
    "\n",
    "criterion=nn.NLLLoss()\n",
    "optimizer=optim.SGD(model.parameters(),lr=0.01)\n",
    "\n",
    "n_ep=20\n",
    "train_losses=[]\n",
    "valid_losses=[]\n",
    "\n",
    "for ep in range(n_ep):\n",
    "    train_loss=0\n",
    "    \n",
    "    for imgs,labels in train_loader:\n",
    "        optimizer.zero_grad()\n",
    "        out=model(imgs.view(imgs.shape[0],-1))\n",
    "        loss=criterion(out,labels)\n",
    "        loss.backward()\n",
    "        optimizer.step()\n",
    "        \n",
    "        train_loss+=loss.item()\n",
    "        #print(f\"Batch: {batch_num}, Loss: {loss.item()}\")\n",
    "    \n",
    "    train_losses.append(train_loss/len(train_loader))\n",
    "    print(f\"Ep: {ep}, Training loss: {train_loss/len(train_loader)}\")\n",
    "    \n",
    "    valid_loss=0\n",
    "    for imgs,labels in test_loader:\n",
    "        \n",
    "        out=model(imgs.view(imgs.shape[0],-1))\n",
    "        loss=criterion(out,labels)\n",
    "        valid_loss+=loss.item()\n",
    "        \n",
    "    valid_losses.append(valid_loss/len(test_loader))\n",
    "    print(f\"Ep: {ep}, Valid loss: {valid_loss/len(test_loader)}\")\n",
    "    \n",
    "torch.save(model.state_dict(),'save_model.pth')"
   ]
  },
  {
   "cell_type": "code",
   "execution_count": 10,
   "id": "90facfab-2622-4859-9133-c6942e766aaa",
   "metadata": {},
   "outputs": [
    {
     "data": {
      "text/plain": [
       "<matplotlib.legend.Legend at 0x17c44aa90>"
      ]
     },
     "execution_count": 10,
     "metadata": {},
     "output_type": "execute_result"
    },
    {
     "data": {
      "image/png": "[encoded data removed]",
      "text/plain": [
       "<Figure size 432x288 with 1 Axes>"
      ]
     },
     "metadata": {
      "needs_background": "light"
     },
     "output_type": "display_data"
    }
   ],
   "source": [
    "plt.plot(train_losses,label='train_loss')\n",
    "plt.plot(valid_losses,'r',label='valid_loss')\n",
    "plt.legend()"
   ]
  },
  {
   "cell_type": "markdown",
   "id": "73005478-769b-4d01-a484-ad4800ce1f8d",
   "metadata": {},
   "source": [
    "# validation"
   ]
  },
  {
   "cell_type": "code",
   "execution_count": 54,
   "id": "abcf3148-b356-4023-b392-3b514d3702c7",
   "metadata": {},
   "outputs": [
    {
     "name": "stdout",
     "output_type": "stream",
     "text": [
      "Accuracy: 86 %\n"
     ]
    }
   ],
   "source": [
    "correct=0\n",
    "total=0\n",
    "\n",
    "predictions=[]\n",
    "\n",
    "with torch.no_grad():\n",
    "    for imgs,labels in test_loader:\n",
    "        out=model(imgs.view(imgs.shape[0],-1))\n",
    "        _, pred=torch.max(out.data,1)\n",
    "        predictions.append(pred.cpu().detach().numpy())\n",
    "        #real_targets.append(labels)\n",
    "        #predictions.append(pred)\n",
    "        total+=labels.size(0)\n",
    "        correct+=(pred==labels).sum().item()\n",
    "        \n",
    "print('Accuracy: %d %%' % (100 * correct / total))"
   ]
  },
  {
   "cell_type": "code",
   "execution_count": 55,
   "id": "58cb223d-6725-4360-b946-db33feb98f46",
   "metadata": {},
   "outputs": [
    {
     "data": {
      "text/plain": [
       "(10000,)"
      ]
     },
     "execution_count": 55,
     "metadata": {},
     "output_type": "execute_result"
    }
   ],
   "source": [
    "predictions=np.concatenate(predictions).ravel()\n",
    "\n",
    "predictions.shape"
   ]
  },
  {
   "cell_type": "code",
   "execution_count": 51,
   "id": "08915284-4b1c-4351-85a6-e4fa7bf409d5",
   "metadata": {},
   "outputs": [
    {
     "data": {
      "text/plain": [
       "(10000,)"
      ]
     },
     "execution_count": 51,
     "metadata": {},
     "output_type": "execute_result"
    }
   ],
   "source": [
    "real_targets=test.targets.cpu().detach().numpy()\n",
    "\n",
    "real_targets.shape"
   ]
  },
  {
   "cell_type": "code",
   "execution_count": 12,
   "id": "937c1a33-94c8-4a78-8483-c27b8234a131",
   "metadata": {},
   "outputs": [
    {
     "data": {
      "text/plain": [
       "<matplotlib.image.AxesImage at 0x17c3aff40>"
      ]
     },
     "execution_count": 12,
     "metadata": {},
     "output_type": "execute_result"
    },
    {
     "data": {
      "image/png": "[encoded data removed]",
      "text/plain": [
       "<Figure size 432x288 with 1 Axes>"
      ]
     },
     "metadata": {
      "needs_background": "light"
     },
     "output_type": "display_data"
    }
   ],
   "source": [
    "img,label=next(iter(test_loader))\n",
    "\n",
    "img[0][0].shape\n",
    "\n",
    "plt.imshow(img[0][0],cmap='gray')"
   ]
  },
  {
   "cell_type": "code",
   "execution_count": 14,
   "id": "b688d279-ee14-4d81-aee2-17d76f806f9a",
   "metadata": {},
   "outputs": [
    {
     "data": {
      "text/plain": [
       "tensor(9)"
      ]
     },
     "execution_count": 14,
     "metadata": {},
     "output_type": "execute_result"
    }
   ],
   "source": [
    "label[0] #Ankle boot"
   ]
  },
  {
   "cell_type": "code",
   "execution_count": 15,
   "id": "3e82cabf-a1c8-49e6-977d-7913972c86ae",
   "metadata": {},
   "outputs": [
    {
     "data": {
      "text/plain": [
       "tensor([9, 2, 1, 1, 6, 1, 4, 6, 5, 7, 4, 5, 5, 3, 4, 1, 2, 4, 8, 0, 2, 5, 7, 5,\n",
       "        1, 2, 6, 0, 9, 3, 8, 8, 3, 3, 8, 0, 7, 5, 7, 9, 0, 1, 6, 7, 6, 5, 2, 1,\n",
       "        2, 6, 4, 2, 5, 8, 2, 2, 8, 4, 8, 0, 7, 7, 8, 5])"
      ]
     },
     "execution_count": 15,
     "metadata": {},
     "output_type": "execute_result"
    }
   ],
   "source": [
    "out=model(img.view(img.shape[0],-1))\n",
    "_, pred=torch.max(out.data,1)\n",
    "\n",
    "pred"
   ]
  },
  {
   "cell_type": "code",
   "execution_count": 16,
   "id": "a4ec3505-7e49-4946-bd46-1d519fda93f3",
   "metadata": {},
   "outputs": [
    {
     "data": {
      "text/plain": [
       "tensor([9, 2, 1, 1, 6, 1, 4, 6, 5, 7, 4, 5, 7, 3, 4, 1, 2, 4, 8, 0, 2, 5, 7, 9,\n",
       "        1, 4, 6, 0, 9, 3, 8, 8, 3, 3, 8, 0, 7, 5, 7, 9, 6, 1, 3, 7, 6, 7, 2, 1,\n",
       "        2, 2, 4, 4, 5, 8, 2, 2, 8, 4, 8, 0, 7, 7, 8, 5])"
      ]
     },
     "execution_count": 16,
     "metadata": {},
     "output_type": "execute_result"
    }
   ],
   "source": [
    "label"
   ]
  },
  {
   "cell_type": "code",
   "execution_count": 23,
   "id": "21ad7911-474d-4cac-93a1-8f9dab310e2e",
   "metadata": {},
   "outputs": [],
   "source": []
  },
  {
   "cell_type": "code",
   "execution_count": 56,
   "id": "26ce897a-56a1-40b4-a83f-21f0d126aa14",
   "metadata": {},
   "outputs": [],
   "source": [
    "report=classification_report(predictions,real_targets,output_dict=True)\n",
    "\n",
    "pd.DataFrame(report).transpose().to_csv('_report.csv')"
   ]
  },
  {
   "cell_type": "code",
   "execution_count": 57,
   "id": "5b4028d8-7bba-4747-a1d0-4a175b3271c0",
   "metadata": {},
   "outputs": [
    {
     "data": {
      "text/plain": [
       "{'0': {'precision': 0.818,\n",
       "  'recall': 0.8313008130081301,\n",
       "  'f1-score': 0.8245967741935484,\n",
       "  'support': 984},\n",
       " '1': {'precision': 0.966,\n",
       "  'recall': 0.9847094801223242,\n",
       "  'f1-score': 0.9752650176678445,\n",
       "  'support': 981},\n",
       " '2': {'precision': 0.704,\n",
       "  'recall': 0.8205128205128205,\n",
       "  'f1-score': 0.7578040904198062,\n",
       "  'support': 858},\n",
       " '3': {'precision': 0.877,\n",
       "  'recall': 0.8473429951690822,\n",
       "  'f1-score': 0.8619164619164619,\n",
       "  'support': 1035},\n",
       " '4': {'precision': 0.869,\n",
       "  'recall': 0.7088091353996737,\n",
       "  'f1-score': 0.7807726864330637,\n",
       "  'support': 1226},\n",
       " '5': {'precision': 0.963,\n",
       "  'recall': 0.9277456647398844,\n",
       "  'f1-score': 0.9450441609421001,\n",
       "  'support': 1038},\n",
       " '6': {'precision': 0.638,\n",
       "  'recall': 0.7088888888888889,\n",
       "  'f1-score': 0.671578947368421,\n",
       "  'support': 900},\n",
       " '7': {'precision': 0.899,\n",
       "  'recall': 0.9483122362869199,\n",
       "  'f1-score': 0.9229979466119097,\n",
       "  'support': 948},\n",
       " '8': {'precision': 0.968,\n",
       "  'recall': 0.9622266401590457,\n",
       "  'f1-score': 0.9651046859421735,\n",
       "  'support': 1006},\n",
       " '9': {'precision': 0.961,\n",
       "  'recall': 0.9384765625,\n",
       "  'f1-score': 0.949604743083004,\n",
       "  'support': 1024},\n",
       " 'accuracy': 0.8663,\n",
       " 'macro avg': {'precision': 0.8663000000000001,\n",
       "  'recall': 0.8678325236786769,\n",
       "  'f1-score': 0.8654685514578333,\n",
       "  'support': 10000},\n",
       " 'weighted avg': {'precision': 0.8713597,\n",
       "  'recall': 0.8663,\n",
       "  'f1-score': 0.8671314485421666,\n",
       "  'support': 10000}}"
      ]
     },
     "execution_count": 57,
     "metadata": {},
     "output_type": "execute_result"
    }
   ],
   "source": [
    "report"
   ]
  },
  {
   "cell_type": "code",
   "execution_count": null,
   "id": "3387c413-68cc-4c0a-8822-fe2737e71061",
   "metadata": {},
   "outputs": [],
   "source": []
  }
 ],
 "metadata": {
  "kernelspec": {
   "display_name": "Python 3 (ipykernel)",
   "language": "python",
   "name": "python3"
  },
  "language_info": {
   "codemirror_mode": {
    "name": "ipython",
    "version": 3
   },
   "file_extension": ".py",
   "mimetype": "text/x-python",
   "name": "python",
   "nbconvert_exporter": "python",
   "pygments_lexer": "ipython3",
   "version": "3.8.2"
  }
 },
 "nbformat": 4,
 "nbformat_minor": 5
}
